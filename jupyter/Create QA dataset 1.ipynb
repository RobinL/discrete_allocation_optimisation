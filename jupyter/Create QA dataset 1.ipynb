{
 "cells": [
  {
   "cell_type": "markdown",
   "metadata": {},
   "source": [
    "Will create a few datasets of varying complexity\n",
    "\n",
    "First try two prisons, with one court for each prison.\n",
    "\n",
    "Prison 200km apart.\n",
    "\n",
    "Courts 50km from prison"
   ]
  },
  {
   "cell_type": "code",
   "execution_count": 37,
   "metadata": {
    "collapsed": false
   },
   "outputs": [
    {
     "data": {
      "text/html": [
       "<div>\n",
       "<table border=\"1\" class=\"dataframe\">\n",
       "  <thead>\n",
       "    <tr style=\"text-align: right;\">\n",
       "      <th></th>\n",
       "      <th>source_court</th>\n",
       "      <th>source_postcode</th>\n",
       "      <th>dest_postcode</th>\n",
       "      <th>source_lat</th>\n",
       "      <th>source_lng</th>\n",
       "      <th>demand</th>\n",
       "      <th>dest_prison</th>\n",
       "      <th>dest_lat</th>\n",
       "      <th>dest_lng</th>\n",
       "      <th>distance</th>\n",
       "      <th>date</th>\n",
       "      <th>prison_capacity</th>\n",
       "      <th>duration</th>\n",
       "    </tr>\n",
       "  </thead>\n",
       "  <tbody>\n",
       "    <tr>\n",
       "      <th>0</th>\n",
       "      <td>Aberdare</td>\n",
       "      <td>CF44 0NW</td>\n",
       "      <td>BL2 6LU</td>\n",
       "      <td>51.714098</td>\n",
       "      <td>-3.439116</td>\n",
       "      <td>0.890747</td>\n",
       "      <td>0</td>\n",
       "      <td>53.577688</td>\n",
       "      <td>-2.38176</td>\n",
       "      <td>219.305171</td>\n",
       "      <td>2016-01-01</td>\n",
       "      <td>20</td>\n",
       "      <td>219.305171</td>\n",
       "    </tr>\n",
       "    <tr>\n",
       "      <th>1</th>\n",
       "      <td>Abergavenny</td>\n",
       "      <td>NP7 5DL</td>\n",
       "      <td>BL2 6LU</td>\n",
       "      <td>51.821759</td>\n",
       "      <td>-3.023196</td>\n",
       "      <td>0.393398</td>\n",
       "      <td>0</td>\n",
       "      <td>53.577688</td>\n",
       "      <td>-2.38176</td>\n",
       "      <td>200.083983</td>\n",
       "      <td>2016-01-01</td>\n",
       "      <td>20</td>\n",
       "      <td>200.083983</td>\n",
       "    </tr>\n",
       "  </tbody>\n",
       "</table>\n",
       "</div>"
      ],
      "text/plain": [
       "  source_court source_postcode dest_postcode  source_lat  source_lng  \\\n",
       "0     Aberdare        CF44 0NW       BL2 6LU   51.714098   -3.439116   \n",
       "1  Abergavenny         NP7 5DL       BL2 6LU   51.821759   -3.023196   \n",
       "\n",
       "     demand  dest_prison   dest_lat  dest_lng    distance        date  \\\n",
       "0  0.890747            0  53.577688  -2.38176  219.305171  2016-01-01   \n",
       "1  0.393398            0  53.577688  -2.38176  200.083983  2016-01-01   \n",
       "\n",
       "   prison_capacity    duration  \n",
       "0               20  219.305171  \n",
       "1               20  200.083983  "
      ]
     },
     "execution_count": 37,
     "metadata": {},
     "output_type": "execute_result"
    }
   ],
   "source": [
    "# This is what the target data looks like\n",
    "import pandas as pd\n",
    "pd.read_csv(\"/Users/robinlinacre/Documents/visualisation_projects/discrete_prison_location_calculator/data/test_data_2.csv\", nrows=2)"
   ]
  },
  {
   "cell_type": "code",
   "execution_count": 38,
   "metadata": {
    "collapsed": true
   },
   "outputs": [],
   "source": [
    "import psycopg2\n",
    "\n",
    "conn = \"host='localhost' dbname='postgres' user='postgres' password=''\"\n",
    "conn = psycopg2.connect(conn)"
   ]
  },
  {
   "cell_type": "code",
   "execution_count": 39,
   "metadata": {
    "collapsed": true
   },
   "outputs": [],
   "source": [
    "# Now for each of the prisons, generate n courts \n",
    "\n",
    "def generate_point_dict(start_point,  bearing_degrees, distance_km,):\n",
    "    sql = \"\"\"\n",
    "        select ST_x(ST_Project(p.point, {distance_meters}, radians({degrees}))::geometry) as lng,\n",
    "        ST_y(ST_Project(p.point, {distance_meters}, radians({degrees}))::geometry) as lat \n",
    "        \n",
    "        from  (select ST_SetSRID(ST_MakePoint({lng},{lat}),4326) as point) as p\n",
    "    \"\"\"\n",
    "    \n",
    "    this_sql = sql.format(lat=start_point[\"lat\"], lng=start_point[\"lng\"], degrees=bearing_degrees, distance_meters=distance_km*1000)\n",
    "    return pd.read_sql(this_sql, conn).loc[0].to_dict()"
   ]
  },
  {
   "cell_type": "code",
   "execution_count": 40,
   "metadata": {
    "collapsed": false
   },
   "outputs": [
    {
     "data": {
      "text/html": [
       "<div>\n",
       "<table border=\"1\" class=\"dataframe\">\n",
       "  <thead>\n",
       "    <tr style=\"text-align: right;\">\n",
       "      <th></th>\n",
       "      <th>dest_prison</th>\n",
       "      <th>dest_lat</th>\n",
       "      <th>dest_lng</th>\n",
       "      <th>prison_capacity</th>\n",
       "    </tr>\n",
       "  </thead>\n",
       "  <tbody>\n",
       "    <tr>\n",
       "      <th>0</th>\n",
       "      <td>0</td>\n",
       "      <td>51.501109</td>\n",
       "      <td>-0.142375</td>\n",
       "      <td>500</td>\n",
       "    </tr>\n",
       "    <tr>\n",
       "      <th>1</th>\n",
       "      <td>1</td>\n",
       "      <td>54.196930</td>\n",
       "      <td>-0.142375</td>\n",
       "      <td>500</td>\n",
       "    </tr>\n",
       "  </tbody>\n",
       "</table>\n",
       "</div>"
      ],
      "text/plain": [
       "   dest_prison   dest_lat  dest_lng  prison_capacity\n",
       "0            0  51.501109 -0.142375              500\n",
       "1            1  54.196930 -0.142375              500"
      ]
     },
     "execution_count": 40,
     "metadata": {},
     "output_type": "execute_result"
    }
   ],
   "source": [
    "import pandas as pd\n",
    "import random\n",
    "prisons = []\n",
    "\n",
    "\n",
    "\n",
    "num_prisons = 2\n",
    "distances_km = [300]\n",
    "bearings_degrees = [0]\n",
    "sizes = [800,1200]\n",
    "\n",
    "start_prison = {\n",
    "    \"lng\": -0.142375,\n",
    "    \"lat\": 51.5011093,\n",
    "    \"prison_capacity\": 500\n",
    "}\n",
    "prisons.append(start_prison)\n",
    "\n",
    "for i in range(num_prisons-1):\n",
    "    distance_km = 300\n",
    "    bearing_degrees = 0\n",
    "    this_prison = generate_point_dict(start_prison, bearing_degrees, distance_km)\n",
    "    this_prison[\"prison_capacity\"] = 500\n",
    "    prisons.append(this_prison)\n",
    "prisons_df = pd.DataFrame(prisons).reset_index()\n",
    "prisons_df.columns=[\"dest_prison\", \"dest_lat\", \"dest_lng\", \"prison_capacity\"]\n",
    "prisons_df"
   ]
  },
  {
   "cell_type": "code",
   "execution_count": 41,
   "metadata": {
    "collapsed": true
   },
   "outputs": [],
   "source": [
    "courts = []"
   ]
  },
  {
   "cell_type": "code",
   "execution_count": 42,
   "metadata": {
    "collapsed": false
   },
   "outputs": [],
   "source": [
    "prison_dict = prisons_df.loc[0].to_dict()\n",
    "this_prison = {\"lat\":prison_dict[\"dest_lat\"], \"lng\": prison_dict[\"dest_lng\"]}\n",
    "distance_km = 50\n",
    "bearing_degrees = 0\n",
    "this_court = generate_point_dict(this_prison, bearing_degrees, distance_km)\n",
    "this_court[\"demand\"] = 400\n",
    "courts.append(this_court)"
   ]
  },
  {
   "cell_type": "code",
   "execution_count": 43,
   "metadata": {
    "collapsed": false
   },
   "outputs": [],
   "source": [
    "prison_dict = prisons_df.loc[1].to_dict()\n",
    "this_prison = {\"lat\":prison_dict[\"dest_lat\"], \"lng\": prison_dict[\"dest_lng\"]}\n",
    "distance_km = 50\n",
    "bearing_degrees = 180\n",
    "this_court = generate_point_dict(this_prison, bearing_degrees, distance_km)\n",
    "this_court[\"demand\"] = 600\n",
    "courts.append(this_court)"
   ]
  },
  {
   "cell_type": "code",
   "execution_count": 44,
   "metadata": {
    "collapsed": true
   },
   "outputs": [],
   "source": [
    "        \n",
    "courts_df = pd.DataFrame(courts).reset_index()\n",
    "courts_df.columns=[\"source_court\", \"demand\", \"source_lat\", \"source_lng\"]\n"
   ]
  },
  {
   "cell_type": "code",
   "execution_count": null,
   "metadata": {
    "collapsed": false
   },
   "outputs": [],
   "source": []
  },
  {
   "cell_type": "code",
   "execution_count": 45,
   "metadata": {
    "collapsed": false
   },
   "outputs": [
    {
     "data": {
      "text/html": [
       "<div>\n",
       "<table border=\"1\" class=\"dataframe\">\n",
       "  <thead>\n",
       "    <tr style=\"text-align: right;\">\n",
       "      <th></th>\n",
       "      <th>dest_prison</th>\n",
       "      <th>dest_lat</th>\n",
       "      <th>dest_lng</th>\n",
       "      <th>prison_capacity</th>\n",
       "      <th>source_court</th>\n",
       "      <th>demand</th>\n",
       "      <th>source_lat</th>\n",
       "      <th>source_lng</th>\n",
       "    </tr>\n",
       "  </thead>\n",
       "  <tbody>\n",
       "    <tr>\n",
       "      <th>0</th>\n",
       "      <td>0</td>\n",
       "      <td>51.501109</td>\n",
       "      <td>-0.142375</td>\n",
       "      <td>500</td>\n",
       "      <td>0</td>\n",
       "      <td>400</td>\n",
       "      <td>51.950498</td>\n",
       "      <td>-0.142375</td>\n",
       "    </tr>\n",
       "    <tr>\n",
       "      <th>1</th>\n",
       "      <td>0</td>\n",
       "      <td>51.501109</td>\n",
       "      <td>-0.142375</td>\n",
       "      <td>500</td>\n",
       "      <td>1</td>\n",
       "      <td>600</td>\n",
       "      <td>53.747712</td>\n",
       "      <td>-0.142375</td>\n",
       "    </tr>\n",
       "    <tr>\n",
       "      <th>2</th>\n",
       "      <td>1</td>\n",
       "      <td>54.196930</td>\n",
       "      <td>-0.142375</td>\n",
       "      <td>500</td>\n",
       "      <td>0</td>\n",
       "      <td>400</td>\n",
       "      <td>51.950498</td>\n",
       "      <td>-0.142375</td>\n",
       "    </tr>\n",
       "    <tr>\n",
       "      <th>3</th>\n",
       "      <td>1</td>\n",
       "      <td>54.196930</td>\n",
       "      <td>-0.142375</td>\n",
       "      <td>500</td>\n",
       "      <td>1</td>\n",
       "      <td>600</td>\n",
       "      <td>53.747712</td>\n",
       "      <td>-0.142375</td>\n",
       "    </tr>\n",
       "  </tbody>\n",
       "</table>\n",
       "</div>"
      ],
      "text/plain": [
       "   dest_prison   dest_lat  dest_lng  prison_capacity  source_court  demand  \\\n",
       "0            0  51.501109 -0.142375              500             0     400   \n",
       "1            0  51.501109 -0.142375              500             1     600   \n",
       "2            1  54.196930 -0.142375              500             0     400   \n",
       "3            1  54.196930 -0.142375              500             1     600   \n",
       "\n",
       "   source_lat  source_lng  \n",
       "0   51.950498   -0.142375  \n",
       "1   53.747712   -0.142375  \n",
       "2   51.950498   -0.142375  \n",
       "3   53.747712   -0.142375  "
      ]
     },
     "execution_count": 45,
     "metadata": {},
     "output_type": "execute_result"
    }
   ],
   "source": [
    "# Cartestian product\n",
    "prisons_df[\"cart\"] =1\n",
    "courts_df[\"cart\"] = 1\n",
    "all_combos = prisons_df.merge(courts_df)\n",
    "all_combos = all_combos.drop(\"cart\", axis=1)\n",
    "all_combos"
   ]
  },
  {
   "cell_type": "code",
   "execution_count": 46,
   "metadata": {
    "collapsed": false
   },
   "outputs": [],
   "source": [
    "# Add distance date and duration\n",
    "sql = \"\"\"\n",
    "    select ST_Distance(\n",
    "    ST_Transform(ST_SetSRID(ST_MakePoint({lng1},{lat1}),4326),27700),\n",
    "    ST_Transform(ST_SetSRID(ST_MakePoint({lng2},{lat2}),4326),27700)\n",
    "    )/1000 as distance;\n",
    "\"\"\"\n",
    "\n",
    "for r in all_combos.iterrows():\n",
    "    index = r[0]\n",
    "    row = r[1]\n",
    "    \n",
    "    lat1 = row[\"dest_lat\"]\n",
    "    lng1 = row[\"dest_lng\"]\n",
    "    \n",
    "    lat2= row[\"source_lat\"]\n",
    "    lng2 = row[\"source_lng\"]\n",
    "    \n",
    "    df_distance=pd.read_sql(sql.format(lat1 = lat1, lat2=lat2, lng1=lng1, lng2=lng2 ),conn)\n",
    "    distance = df_distance.loc[0,\"distance\"]\n",
    "    \n",
    "    all_combos.loc[index,\"distance\"] = distance\n",
    "    all_combos.loc[index,\"duration\"] = distance*2\n",
    "\n",
    "all_combos[\"date\"] = \"2016-01-01\"\n"
   ]
  },
  {
   "cell_type": "code",
   "execution_count": 47,
   "metadata": {
    "collapsed": false
   },
   "outputs": [],
   "source": [
    "path = \"/Users/robinlinacre/Documents/visualisation_projects/discrete_prison_location_calculator/data/qa_dataset_1.csv\"\n",
    "all_combos.to_csv(path, index=False)"
   ]
  },
  {
   "cell_type": "code",
   "execution_count": 48,
   "metadata": {
    "collapsed": false
   },
   "outputs": [
    {
     "data": {
      "text/html": [
       "<div>\n",
       "<table border=\"1\" class=\"dataframe\">\n",
       "  <thead>\n",
       "    <tr style=\"text-align: right;\">\n",
       "      <th></th>\n",
       "      <th>dest_prison</th>\n",
       "      <th>dest_lat</th>\n",
       "      <th>dest_lng</th>\n",
       "      <th>prison_capacity</th>\n",
       "      <th>source_court</th>\n",
       "      <th>demand</th>\n",
       "      <th>source_lat</th>\n",
       "      <th>source_lng</th>\n",
       "      <th>distance</th>\n",
       "      <th>duration</th>\n",
       "      <th>date</th>\n",
       "    </tr>\n",
       "  </thead>\n",
       "  <tbody>\n",
       "    <tr>\n",
       "      <th>0</th>\n",
       "      <td>0</td>\n",
       "      <td>51.501109</td>\n",
       "      <td>-0.142375</td>\n",
       "      <td>500</td>\n",
       "      <td>0</td>\n",
       "      <td>400</td>\n",
       "      <td>51.950498</td>\n",
       "      <td>-0.142375</td>\n",
       "      <td>49.991574</td>\n",
       "      <td>99.983148</td>\n",
       "      <td>2016-01-01</td>\n",
       "    </tr>\n",
       "    <tr>\n",
       "      <th>1</th>\n",
       "      <td>0</td>\n",
       "      <td>51.501109</td>\n",
       "      <td>-0.142375</td>\n",
       "      <td>500</td>\n",
       "      <td>1</td>\n",
       "      <td>600</td>\n",
       "      <td>53.747712</td>\n",
       "      <td>-0.142375</td>\n",
       "      <td>249.955892</td>\n",
       "      <td>499.911783</td>\n",
       "      <td>2016-01-01</td>\n",
       "    </tr>\n",
       "    <tr>\n",
       "      <th>2</th>\n",
       "      <td>1</td>\n",
       "      <td>54.196930</td>\n",
       "      <td>-0.142375</td>\n",
       "      <td>500</td>\n",
       "      <td>0</td>\n",
       "      <td>400</td>\n",
       "      <td>51.950498</td>\n",
       "      <td>-0.142375</td>\n",
       "      <td>249.954909</td>\n",
       "      <td>499.909818</td>\n",
       "      <td>2016-01-01</td>\n",
       "    </tr>\n",
       "    <tr>\n",
       "      <th>3</th>\n",
       "      <td>1</td>\n",
       "      <td>54.196930</td>\n",
       "      <td>-0.142375</td>\n",
       "      <td>500</td>\n",
       "      <td>1</td>\n",
       "      <td>600</td>\n",
       "      <td>53.747712</td>\n",
       "      <td>-0.142375</td>\n",
       "      <td>49.990591</td>\n",
       "      <td>99.981182</td>\n",
       "      <td>2016-01-01</td>\n",
       "    </tr>\n",
       "  </tbody>\n",
       "</table>\n",
       "</div>"
      ],
      "text/plain": [
       "   dest_prison   dest_lat  dest_lng  prison_capacity  source_court  demand  \\\n",
       "0            0  51.501109 -0.142375              500             0     400   \n",
       "1            0  51.501109 -0.142375              500             1     600   \n",
       "2            1  54.196930 -0.142375              500             0     400   \n",
       "3            1  54.196930 -0.142375              500             1     600   \n",
       "\n",
       "   source_lat  source_lng    distance    duration        date  \n",
       "0   51.950498   -0.142375   49.991574   99.983148  2016-01-01  \n",
       "1   53.747712   -0.142375  249.955892  499.911783  2016-01-01  \n",
       "2   51.950498   -0.142375  249.954909  499.909818  2016-01-01  \n",
       "3   53.747712   -0.142375   49.990591   99.981182  2016-01-01  "
      ]
     },
     "execution_count": 48,
     "metadata": {},
     "output_type": "execute_result"
    }
   ],
   "source": [
    "all_combos"
   ]
  },
  {
   "cell_type": "code",
   "execution_count": null,
   "metadata": {
    "collapsed": true
   },
   "outputs": [],
   "source": []
  }
 ],
 "metadata": {
  "kernelspec": {
   "display_name": "Python [default]",
   "language": "python",
   "name": "python2"
  },
  "language_info": {
   "codemirror_mode": {
    "name": "ipython",
    "version": 2
   },
   "file_extension": ".py",
   "mimetype": "text/x-python",
   "name": "python",
   "nbconvert_exporter": "python",
   "pygments_lexer": "ipython2",
   "version": "2.7.12"
  }
 },
 "nbformat": 4,
 "nbformat_minor": 0
}
